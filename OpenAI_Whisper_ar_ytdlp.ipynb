{
  "cells": [
    {
      "cell_type": "markdown",
      "metadata": {
        "id": "view-in-github",
        "colab_type": "text"
      },
      "source": [
        "<a href=\"https://colab.research.google.com/github/yshalsager/OpenAI_Whisper_ytdlp/blob/master/OpenAI_Whisper_ar_ytdlp.ipynb\" target=\"_parent\"><img src=\"https://colab.research.google.com/assets/colab-badge.svg\" alt=\"Open In Colab\"/></a>"
      ]
    },
    {
      "cell_type": "markdown",
      "metadata": {
        "id": "zw5ButypVydc"
      },
      "source": [
        "# تفريغ الصوتيات باستخدم OpenAI Whisper\n",
        "\n",
        "هذا الملف مبني على [هذا الملف](https://colab.research.google.com/gist/Kazuki-tam/04e85708e4fd1c4b8af180d317977f4d/whisper-mock-en.ipynb)\n",
        "\n",
        "\n",
        "## 📖 كيفية الاستخدام\n",
        "1. شغل خطوة \"اﻹعداد\".\n",
        "2. اختر نمط التشغيل: يوتيوب أو ملف محلي.\n",
        "  - إذا اخترت local لتفريغ ملف تقوم برفعه بنفسك،  شغل خطوة اﻹعداد أولا ثم ارفع الملف إلى مجلد `download`.\n",
        "  - إذا اخترت يوتيوب ضع رابط المقطع أو قائمة التشغيل في `youtube_urls`\n",
        "  - يمكنك تحديد بداية ونهاية قائمة التشغيل من الخيارين التاليين.\n",
        "3. اختر لغة الملف.\n",
        "4. اختر النموذج المستخدم في التفريغ، `large` يعطي نتائج أفضل لكن أبطأ.\n",
        "5. شغل خطوة `Transcription`."
      ]
    },
    {
      "cell_type": "code",
      "execution_count": null,
      "metadata": {
        "id": "XWIl4Ys54Ce6"
      },
      "outputs": [],
      "source": [
        "#@title اﻹعداد\n",
        "# Install packages\n",
        "!pip install git+https://github.com/openai/whisper.git\n",
        "!pip install yt-dlp\n",
        "!wget https://raw.githubusercontent.com/jianfch/stable-ts/dcf3c55e6655ddee5694ad442c93d8f49fe476de/stable_whisper.py -O stable_whisper.py\n",
        "\n",
        "from pathlib import Path\n",
        "\n",
        "# Add folders\n",
        "download_folder = Path(\"download\")\n",
        "if not download_folder.exists():\n",
        "  download_folder.mkdir()\n",
        "output_folder = Path(\"output\")\n",
        "if not output_folder.exists():\n",
        "  output_folder.mkdir()"
      ]
    },
    {
      "cell_type": "code",
      "execution_count": null,
      "metadata": {
        "id": "scAiM8ug_s1M",
        "cellView": "form"
      },
      "outputs": [],
      "source": [
        "#@title Transcription\n",
        "import whisper\n",
        "import yt_dlp\n",
        "\n",
        "import mimetypes\n",
        "from pathlib import Path\n",
        "\n",
        "from google.colab import files\n",
        "from stable_whisper import modify_model, results_to_sentence_srt\n",
        "\n",
        "\n",
        "process_type = \"youtube\"#@param [\"youtube\", \"local\"]\n",
        "youtube_urls = \"https://www.youtube.com/watch?v=sqOn0aG7bwQ\"#@param {type:\"string\"}\n",
        "playlist_start = 1 #@param {type:\"integer\"}\n",
        "playlist_end = 9999 #@param {type:\"integer\"}\n",
        "\n",
        "mimetypes.init()\n",
        "ydl_opts = {\n",
        "    'format': 'm4a/bestaudio/best',\n",
        "    'postprocessors': [{  # Extract audio using ffmpeg\n",
        "        'key': 'FFmpegExtractAudio',\n",
        "        'preferredcodec': 'm4a',\n",
        "    }],\n",
        "    \"playliststart\": int(playlist_start),\n",
        "    \"playlistend\": int(playlist_end),\n",
        "    \"outtmpl\": f\"{str(download_folder)}/%(playlist_index)04d-%(title)s-%(id)s.%(ext)s\"\n",
        "}\n",
        "\n",
        "if process_type == \"youtube\":\n",
        "  for youtube_url in youtube_urls.split():\n",
        "    with yt_dlp.YoutubeDL(ydl_opts) as ydl:\n",
        "        ydl.download(youtube_url)\n",
        "\n",
        "language = \"ar\"#@param [\"en\", \"ar\", \"Afrikaans\", \"Albanian\", \"Amharic\", \"Arabic\", \"Armenian\", \"Assamese\", \"Azerbaijani\", \"Bashkir\", \"Basque\", \"Belarusian\", \"Bengali\", \"Bosnian\", \"Breton\", \"Bulgarian\", \"Burmese\", \"Castilian\", \"Catalan\", \"Chinese\", \"Croatian\", \"Czech\", \"Danish\", \"Dutch\", \"English\", \"Estonian\", \"Faroese\", \"Finnish\", \"Flemish\", \"French\", \"Galician\", \"Georgian\", \"German\", \"Greek\", \"Gujarati\", \"Haitian\", \"Haitian Creole\", \"Hausa\", \"Hawaiian\", \"Hebrew\", \"Hindi\", \"Hungarian\", \"Icelandic\", \"Indonesian\", \"Italian\", \"Japanese\", \"Javanese\", \"Kannada\", \"Kazakh\", \"Khmer\", \"Korean\", \"Lao\", \"Latin\", \"Latvian\", \"Letzeburgesch\", \"Lingala\", \"Lithuanian\", \"Luxembourgish\", \"Macedonian\", \"Malagasy\", \"Malay\", \"Malayalam\", \"Maltese\", \"Maori\", \"Marathi\", \"Moldavian\", \"Moldovan\", \"Mongolian\", \"Myanmar\", \"Nepali\", \"Norwegian\", \"Nynorsk\", \"Occitan\", \"Panjabi\", \"Pashto\", \"Persian\", \"Polish\", \"Portuguese\", \"Punjabi\", \"Pushto\", \"Romanian\", \"Russian\", \"Sanskrit\", \"Serbian\", \"Shona\", \"Sindhi\", \"Sinhala\", \"Sinhalese\", \"Slovak\", \"Slovenian\", \"Somali\", \"Spanish\", \"Sundanese\", \"Swahili\", \"Swedish\", \"Tagalog\", \"Tajik\", \"Tamil\", \"Tatar\", \"Telugu\", \"Thai\", \"Tibetan\", \"Turkish\", \"Turkmen\", \"Ukrainian\", \"Urdu\", \"Uzbek\", \"Valencian\", \"Vietnamese\", \"Welsh\", \"Yiddish\", \"Yoruba\", \"af\", \"am\", \"as\", \"az\", \"ba\", \"be\", \"bg\", \"bn\", \"bo\", \"br\", \"bs\", \"ca\", \"cs\", \"cy\", \"da\", \"de\", \"el\", \"es\", \"et\", \"eu\", \"fa\", \"fi\", \"fo\", \"fr\", \"gl\", \"gu\", \"ha\", \"haw\", \"hi\", \"hr\", \"ht\", \"hu\", \"hy\", \"id\", \"is\", \"it\", \"iw\", \"ja\", \"jw\", \"ka\", \"kk\", \"km\", \"kn\", \"ko\", \"la\", \"lb\", \"ln\", \"lo\", \"lt\", \"lv\", \"mg\", \"mi\", \"mk\", \"ml\", \"mn\", \"mr\", \"ms\", \"mt\", \"my\", \"ne\", \"nl\", \"nn\", \"no\", \"oc\", \"pa\", \"pl\", \"ps\", \"pt\", \"ro\", \"ru\", \"sa\", \"sd\", \"si\", \"sk\", \"sl\", \"sn\", \"so\", \"sq\", \"sr\", \"su\", \"sv\", \"sw\", \"ta\", \"te\", \"tg\", \"th\", \"tk\", \"tl\", \"tr\", \"tt\", \"uk\", \"ur\", \"uz\", \"vi\", \"yi\", \"yo\", \"zh\"]\n",
        "model = \"large\"#@param [\"large\", \"medium\", \"base\", \"small\", \"tiny\"]\n",
        "model = whisper.load_model(model)\n",
        "# jianfch/stable-ts\n",
        "modify_model(model)\n",
        "\n",
        "for audio_file in sorted(download_folder.iterdir()):\n",
        "    mime = mimetypes.guess_type(audio_file)[0]\n",
        "    if mime is None:\n",
        "        continue\n",
        "    mime_type = mime.split('/')[0]\n",
        "    if mime_type not in ('audio', 'video'):\n",
        "        continue\n",
        "\n",
        "    print(f\"Transcription of {audio_file} will start!\")\n",
        "    text_file = Path(f\"{output_folder}/{audio_file.stem}.txt\")\n",
        "    subtitle_file = Path(f\"{output_folder}/{audio_file.stem}.srt\")\n",
        "\n",
        "    result = model.transcribe(str(audio_file), language=language)\n",
        "    # save TXT\n",
        "    with open(str(text_file), \"w\", encoding=\"utf-8\") as txt:\n",
        "      for segment in result[\"segments\"]:\n",
        "          txt.write(segment['text'].strip() + '\\n')\n",
        "    files.download(str(text_file))\n",
        "    # save SRT\n",
        "    #with open(f\"{download_folder}/{audio_file.name}.srt\", \"w\", encoding=\"utf-8\") as srt:\n",
        "    #    whisper.write_srt(result[\"segments\"], file=srt)\n",
        "    results_to_sentence_srt(result, str(subtitle_file))\n",
        "    files.download(str(subtitle_file))\n",
        "    ## Write into a text file\n",
        "    #Path(f\"{download_folder}/{file_name.name}.txt\").write_text(result[\"text\"])\n",
        "    audio_file.unlink()\n",
        "    print(\"Done!\")"
      ]
    }
  ],
  "metadata": {
    "accelerator": "GPU",
    "colab": {
      "provenance": [],
      "include_colab_link": true
    },
    "gpuClass": "standard",
    "kernelspec": {
      "display_name": "Python 3",
      "name": "python3"
    },
    "language_info": {
      "name": "python"
    }
  },
  "nbformat": 4,
  "nbformat_minor": 0
}